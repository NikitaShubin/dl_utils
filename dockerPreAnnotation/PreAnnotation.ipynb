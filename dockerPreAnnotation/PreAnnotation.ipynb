{
 "cells": [
  {
   "cell_type": "markdown",
   "id": "f853d4cc-836b-4d7b-be0c-7fa57bb90a58",
   "metadata": {},
   "source": [
    "# Загрузка модулей"
   ]
  },
  {
   "cell_type": "code",
   "execution_count": null,
   "execution_state": "idle",
   "id": "aa2ee026-7b57-462f-9c8d-e73d0e285a9b",
   "metadata": {},
   "outputs": [],
   "source": [
    "import os\n",
    "os.environ[\"CUDA_DEVICE_ORDER\"] = 'PCI_BUS_ID'\n",
    "os.environ[\"CUDA_VISIBLE_DEVICES\"] = '0'\n",
    "\n",
    "import sys\n",
    "sys.path.append('./src')"
   ]
  },
  {
   "cell_type": "code",
   "execution_count": null,
   "execution_state": "idle",
   "id": "dd5f4c41-3b29-4354-8f1c-1be63b5e37f4",
   "metadata": {},
   "outputs": [],
   "source": [
    "from ipy_utils import (IPYInteractiveSegmentation, show_video,\n",
    "                       IPYRadioButtons, IPYButton)\n",
    "from sam2al import SAM2\n",
    "from cvat import CVATLabeles\n",
    "from utils import TimeIt"
   ]
  },
  {
   "cell_type": "markdown",
   "id": "6c1e458f-bb38-4b01-9fc7-8b8bf0a6fcdc",
   "metadata": {},
   "source": [
    "# Открытие видеофайла и списка классов"
   ]
  },
  {
   "cell_type": "code",
   "execution_count": null,
   "execution_state": "idle",
   "id": "120f3a55-39a3-4919-9ae2-9bc9e0cedc3e",
   "metadata": {},
   "outputs": [],
   "source": [
    "video_file = './project/videos/14_fragment_6.avi'\n",
    "\n",
    "with TimeIt('загрузку модели') as t:\n",
    "    sam2 = SAM2('./models/sam2.1_hiera_large.pt')\n",
    "\n",
    "with TimeIt('загрузку видео') as t:\n",
    "    sam2.load_video(video_file,\n",
    "                    prompts_file='./project/prompts',\n",
    "                    offload_video_to_cpu=True,\n",
    "                    offload_state_to_cpu=False,\n",
    "                    async_loading_frames=False)"
   ]
  },
  {
   "cell_type": "code",
   "execution_count": null,
   "execution_state": "idle",
   "id": "027eb4bb-173f-4658-b091-52f587277e0f",
   "metadata": {},
   "outputs": [],
   "source": [
    "labeles = CVATLabeles('./project/labeles.txt')\n",
    "IPYRadioButtons(**labeles.get_ipy_radio_buttons_kwargs('Класс объекта:'),\n",
    "                setter=sam2.set_label).show();"
   ]
  },
  {
   "cell_type": "markdown",
   "id": "1652dbc7-1cb5-4f4a-ae3c-6b4bc77a268e",
   "metadata": {},
   "source": [
    "# Интерактивная сегментация"
   ]
  },
  {
   "cell_type": "code",
   "execution_count": null,
   "execution_state": "idle",
   "id": "aaaca461-7087-4b32-a9e5-53b8a692e708",
   "metadata": {},
   "outputs": [],
   "source": [
    "sam2.go_to(frame=(5*60+20)*30 * 0, obj_id='new')\n",
    "ipis = IPYInteractiveSegmentation(**sam2.init_ipis_kwargs())"
   ]
  },
  {
   "cell_type": "markdown",
   "id": "0e10183d-dd23-4e14-89e4-719c82edf3b4",
   "metadata": {},
   "source": [
    "# Таблица подсказок"
   ]
  },
  {
   "cell_type": "code",
   "execution_count": null,
   "execution_state": "idle",
   "id": "e4c18544-b0fb-4aaa-a63e-39aa234b95df",
   "metadata": {},
   "outputs": [],
   "source": [
    "sam2.prompts.df"
   ]
  },
  {
   "cell_type": "markdown",
   "id": "f822f9bf-8a28-4f67-ba7f-2c6cff73620b",
   "metadata": {},
   "source": [
    "# Группировка определённых классов:"
   ]
  },
  {
   "cell_type": "code",
   "execution_count": null,
   "id": "fc67ffc2-4fd7-4ffe-bad1-93f6ca327597",
   "metadata": {},
   "outputs": [],
   "source": [
    "for obj_id in sam2.prompts.get_all_obj_ids():\n",
    "    if sam2.prompts.get_label(obj_id) not in ['People', 'transport']:\n",
    "        sam2.prompts.set_group(obj_id, 1)\n",
    "sam2.prompts.make_auto_save()"
   ]
  },
  {
   "cell_type": "markdown",
   "id": "f9876267-e647-4a0e-ae1b-6f7a3deeee2c",
   "metadata": {},
   "source": [
    "# Сборка превью"
   ]
  },
  {
   "cell_type": "code",
   "execution_count": null,
   "execution_state": "idle",
   "id": "5c3ecf35-6aa3-47c8-ab94-66148055a1d2",
   "metadata": {},
   "outputs": [],
   "source": [
    "with TimeIt('формирование простого превью') as t:\n",
    "    video = show_video(sam2.RenderPreview(), size=480)\n",
    "video"
   ]
  },
  {
   "cell_type": "code",
   "execution_count": null,
   "execution_state": "idle",
   "id": "66c21d54-2e43-4522-b063-52ee37085868",
   "metadata": {},
   "outputs": [],
   "source": [
    "with TimeIt('формирование превью с подгонкой контуров') as t:\n",
    "    video = show_video(sam2.RenderPreview(fit_segments=True), size=480)\n",
    "video"
   ]
  },
  {
   "cell_type": "markdown",
   "id": "b42e727f-6cc0-4cfc-8875-5377301eff5f",
   "metadata": {},
   "source": [
    "# Создание файла CVAT-разметки"
   ]
  },
  {
   "cell_type": "code",
   "execution_count": null,
   "execution_state": "idle",
   "id": "a55f0c65-d81b-44d7-8164-f662aa8f83bd",
   "metadata": {},
   "outputs": [],
   "source": [
    "with TimeIt('формирование файла-разметки') as t:\n",
    "    sam2.save2cvat_xml();"
   ]
  }
 ],
 "metadata": {
  "kernelspec": {
   "display_name": "Python 3 (ipykernel)",
   "language": "python",
   "name": "python3"
  },
  "language_info": {
   "codemirror_mode": {
    "name": "ipython",
    "version": 3
   },
   "file_extension": ".py",
   "mimetype": "text/x-python",
   "name": "python",
   "nbconvert_exporter": "python",
   "pygments_lexer": "ipython3",
   "version": "3.11.0rc1"
  }
 },
 "nbformat": 4,
 "nbformat_minor": 5
}
