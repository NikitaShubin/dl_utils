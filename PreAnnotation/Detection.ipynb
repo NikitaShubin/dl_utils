{
 "cells": [
  {
   "cell_type": "markdown",
   "id": "f853d4cc-836b-4d7b-be0c-7fa57bb90a58",
   "metadata": {},
   "source": [
    "# Загрузка модулей:"
   ]
  },
  {
   "cell_type": "code",
   "execution_count": null,
   "id": "aa2ee026-7b57-462f-9c8d-e73d0e285a9b",
   "metadata": {},
   "outputs": [],
   "source": [
    "import os\n",
    "os.environ['CUDA_DEVICE_ORDER'] = 'PCI_BUS_ID'\n",
    "os.environ['CUDA_VISIBLE_DEVICES'] = '0'\n",
    "os.environ['TOKENIZERS_PARALLELISM'] = 'true'\n",
    "\n",
    "import sys\n",
    "sys.path.append('./src')  # Для Docker из ./ (./run.sh)\n",
    "sys.path.append('../')    # Для Docker из dl_utils (dl_utils/docker/run.sh)"
   ]
  },
  {
   "cell_type": "code",
   "execution_count": null,
   "id": "402bf1e1-692f-4cd1-849b-623bd44ea0a2",
   "metadata": {},
   "outputs": [],
   "source": [
    "from dinoal import Dino\n",
    "from ipy_utils import show_video, path2link\n",
    "from cvat import dir2unlabeled_tasks, tasks_auto_annottation, tasks2preview, subtask2xml\n",
    "from cvat_srv import CVATSRV, tqdm"
   ]
  },
  {
   "cell_type": "markdown",
   "id": "d3e9fa46-a3da-411a-a857-9c48ada55317",
   "metadata": {},
   "source": [
    "# Индексация файлов для предразметки:"
   ]
  },
  {
   "cell_type": "code",
   "execution_count": null,
   "id": "bf3f6828-ae15-4176-834b-c2cb6a86173b",
   "metadata": {},
   "outputs": [],
   "source": [
    "path = 'path/to/dir'               # Путь до папки\n",
    "path = 'path/to/file'              # Путь до файла\n",
    "path = ['list', 'to', 'files']     # Или список путей до файлов\n",
    "\n",
    "tasks = dir2unlabeled_tasks(path, desc='Индексация ресурсов')"
   ]
  },
  {
   "cell_type": "markdown",
   "id": "7716042a-110c-43f3-806a-c196e577b033",
   "metadata": {},
   "source": [
    "# Загрузка модели и установка параметров предразметки:"
   ]
  },
  {
   "cell_type": "code",
   "execution_count": null,
   "id": "27ab5e5f-ee09-4b76-852a-15cfb14e4754",
   "metadata": {},
   "outputs": [],
   "source": [
    "dino = Dino(\n",
    "    '/home/user/models/groundingdino_swinb_cogcoor.pth',\n",
    "    box_threshold=0.35,\n",
    "    text_threshold=0.25,\n",
    "    prompt2label={\n",
    "        'UFO': 'ufo',\n",
    "        'Plane': 'ufo',\n",
    "        'Bird': 'ufo',\n",
    "        'Airship': 'ufo',\n",
    "        'Helicopter': 'ufo',\n",
    "\n",
    "        'Boat': 'boat',\n",
    "        'Speedboat': 'boat',\n",
    "        'Motor boat': 'boat',\n",
    "        'Sailboat': 'boat',\n",
    "        'Cruiser': 'boat',\n",
    "        'Ship': 'boat',\n",
    "        'Steamboat': 'boat',\n",
    "\n",
    "        'Object': 'object',\n",
    "        'Anything': 'object'\n",
    "    }\n",
    ")\n",
    "undefined_label = 'undefined'\n",
    "\n",
    "dino.device"
   ]
  },
  {
   "cell_type": "code",
   "execution_count": null,
   "id": "02f11963-0c51-448d-a307-92bed4c19cca",
   "metadata": {},
   "outputs": [],
   "source": [
    "annotation_tasks = tasks_auto_annottation(tasks, dino, label=undefined_label)"
   ]
  },
  {
   "cell_type": "markdown",
   "id": "f9876267-e647-4a0e-ae1b-6f7a3deeee2c",
   "metadata": {},
   "source": [
    "# Сборка превью:"
   ]
  },
  {
   "cell_type": "code",
   "execution_count": null,
   "id": "50351852-5a4e-47a8-a936-cd644d3e8418",
   "metadata": {},
   "outputs": [],
   "source": [
    "show_video(tasks2preview(annotation_tasks, fps=30), size=320)"
   ]
  },
  {
   "cell_type": "markdown",
   "id": "b42e727f-6cc0-4cfc-8875-5377301eff5f",
   "metadata": {},
   "source": [
    "# Экспорт в CVAT:"
   ]
  },
  {
   "cell_type": "code",
   "execution_count": null,
   "id": "b93febe7-c90a-4581-8983-37f03d4fe880",
   "metadata": {},
   "outputs": [],
   "source": [
    "# Соединение с сервером:\n",
    "cvat_srv = CVATSRV()\n",
    "print('Соединение с', str(cvat_srv), 'установлено.')"
   ]
  },
  {
   "cell_type": "code",
   "execution_count": null,
   "id": "9f78fc49-ca77-48c7-aee3-742faa15a9b7",
   "metadata": {},
   "outputs": [],
   "source": [
    "# Определяем проект для сохранения задач:\n",
    "\n",
    "# Имя проекта в CVAT:\n",
    "proj_name = 'test_proj'\n",
    "\n",
    "labels = set(dino.prompt2label.values()) | {undefined_label}\n",
    "\n",
    "# Если проект с зажданным именем существует:\n",
    "if proj_name in cvat_srv.keys():\n",
    "\n",
    "    # Берём его:\n",
    "    proj = cvat_srv[proj_name]\n",
    "\n",
    "    # Убеждаемся, что все необходимые метки в проекте уже есть:\n",
    "    proj_labels = {label['name'] for label in proj.labels()}\n",
    "    diff_labels = labels - proj_labels\n",
    "    if diff_labels:\n",
    "        raise ValueError(f'В проекте нет следующих меток: {diff_labels}')\n",
    "\n",
    "    print('Используется имеющийся проект.')\n",
    "\n",
    "else:\n",
    "    proj = cvat_srv.new(proj_name, labels=labels)\n",
    "    print('Создан новый проект.')"
   ]
  },
  {
   "cell_type": "code",
   "execution_count": null,
   "id": "c6b25ccb-4957-47eb-9506-6d2a8fbad1c4",
   "metadata": {},
   "outputs": [],
   "source": [
    "# Сама выгрузка:\n",
    "\n",
    "xml_file = 'annotations.xml'\n",
    "for task in tqdm(annotation_tasks, desc='Выгрузка размеченных задач'):\n",
    "\n",
    "    assert len(task) == 1\n",
    "\n",
    "    df, file, true_frames = task[0]\n",
    "\n",
    "    subtask2xml((df, file, true_frames), xml_file)\n",
    "\n",
    "    if isinstance(file, str):\n",
    "        name = os.path.basename(os.path.splitext(file)[0])\n",
    "    else:\n",
    "        name = os.path.basename(os.path.dirname(file[0]))\n",
    "\n",
    "    if name in proj.keys():\n",
    "        raise ValueError(f'В проекте уже есть задача с именем \"{name}\"!')\n",
    "\n",
    "    proj.new(name, file, annotation_file=xml_file)"
   ]
  }
 ],
 "metadata": {
  "kernelspec": {
   "display_name": "Python 3 (ipykernel)",
   "language": "python",
   "name": "python3"
  },
  "language_info": {
   "codemirror_mode": {
    "name": "ipython",
    "version": 3
   },
   "file_extension": ".py",
   "mimetype": "text/x-python",
   "name": "python",
   "nbconvert_exporter": "python",
   "pygments_lexer": "ipython3",
   "version": "3.11.13"
  }
 },
 "nbformat": 4,
 "nbformat_minor": 5
}
